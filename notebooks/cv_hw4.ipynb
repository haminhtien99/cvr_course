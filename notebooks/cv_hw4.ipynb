{
  "cells": [
    {
      "cell_type": "markdown",
      "metadata": {
        "id": "Ehuhi5Vvn1M8"
      },
      "source": [
        "# Домашнее задание 4\n",
        "\n",
        "1) [3 балла] Перепишите функцию \\_transform_point() из класса Canvas на 223 строке клетки Projecting 3D objects onto plane так, чтобы модель камеры была широкоугольной. Объясните, как вы рассуждали. P.S. Возможно, потребуется подвинуть объекты\n",
        "\n"
      ]
    },
    {
      "cell_type": "markdown",
      "source": [
        "Использовал полиномиальную радиальную дисторсию (эта была на лекции 3)\n",
        "\\begin{equation}\n",
        "x' = x \\frac{1+k_1r^2+k_2r^4+k_3r^6}{1+k4r^2+k_5r^4+k_6r^6} \\end{equation}\n",
        "\\begin{equation}\n",
        "y' = y \\frac{1+k_1r^2+k_2r^4+k_3r^6}{1+k4r^2+k_5r^4+k_6r^6}\n",
        "\\end{equation}"
      ],
      "metadata": {
        "id": "Gwh4J-mCoylO"
      }
    },
    {
      "cell_type": "code",
      "source": [
        "import cv2\n",
        "import numpy as np\n",
        "import time\n",
        "import math\n",
        "\n",
        "from IPython.display import display, clear_output\n",
        "from matplotlib import pyplot as plt\n",
        "#plt.rcParams[\"figure.figsize\"] = (20, 20)\n",
        "#%matplotlib inline\n",
        "\n",
        "WIND_X = 1000\n",
        "WIND_Y = 800\n",
        "\n",
        "def _transform_point (self, p):\n",
        "    k = np.linspace(1,6,6)\n",
        "    r = math.sqrt(p[0]*p[0] + p[1]*p[1])\n",
        "    x_ = p[0]*(1+k[0]*r**2 +k[1] * r**4 +k[2]*r**6)/(1+k[3]*r**2 + k[4]* r**4 +k[5] *r**6)\n",
        "    y_ = p[1]*(1+k[0]*r**2 +k[1] * r**4 +k[2]*r**6)/(1+k[3]*r**2 + k[4]* r**4 +k[5] *r**6)\n",
        "    \n",
        "    x = int ((x_ / p [2] * 2 + self.centerx) * WIND_X / self.xsz)\n",
        "    y = int ((y_ / p [2] * 2 + self.centery) * WIND_Y / self.ysz)\n",
        "    \n",
        "    #x = int ((p [0] / p [2] * 2 + self.centerx) * WIND_X / self.xsz)\n",
        "    #y = int ((p [1] / p [2] * 2 + self.centery) * WIND_Y / self.ysz)\n",
        "    \n",
        "    return x, y\n"
      ],
      "metadata": {
        "id": "gWoTIXvSnVT6"
      },
      "execution_count": 1,
      "outputs": []
    }
  ],
  "metadata": {
    "kernelspec": {
      "display_name": "Python 3",
      "language": "python",
      "name": "python3"
    },
    "language_info": {
      "codemirror_mode": {
        "name": "ipython",
        "version": 3
      },
      "file_extension": ".py",
      "mimetype": "text/x-python",
      "name": "python",
      "nbconvert_exporter": "python",
      "pygments_lexer": "ipython3",
      "version": "3.7.3"
    },
    "colab": {
      "name": "cv_hw4.ipynb",
      "provenance": [],
      "toc_visible": true
    }
  },
  "nbformat": 4,
  "nbformat_minor": 0
}