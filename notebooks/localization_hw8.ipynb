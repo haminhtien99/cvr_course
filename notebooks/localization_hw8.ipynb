{
  "cells": [
    {
      "cell_type": "markdown",
      "id": "acquired-accused",
      "metadata": {
        "id": "acquired-accused"
      },
      "source": [
        "# Локализация. Упражнения"
      ]
    },
    {
      "cell_type": "markdown",
      "id": "electric-shannon",
      "metadata": {
        "id": "electric-shannon"
      },
      "source": [
        "В этих упражнениях вам предлагается реализовать простые алгоритмы локализации роботов. На лекции, помимо фильтра частиц, были упомянуты методы триангуляции и альфа-бета фильтр. Давайте их реализуем: обе реализации должны быть сделаны в виде класса, у которого должен быть метод update. Метод update принимает на вход измеренения с камеры о положении ориентиров в сосбтвенной системе координат робота."
      ]
    },
    {
      "cell_type": "markdown",
      "id": "trained-funds",
      "metadata": {
        "id": "trained-funds"
      },
      "source": [
        "В качестве ориентиров будем использовать координаты стоек ворот. Для удобства будем пользоваться упрощенным вариантом, при котором ворота разных цветов. В словаре храняться положения стоек в глобальной системе координат (точка (0, 0) нахождится в центре поля)"
      ]
    },
    {
      "cell_type": "code",
      "source": [
        "!pip3 install matplotlib"
      ],
      "metadata": {
        "id": "HuFGNErVOlbQ",
        "outputId": "2bc08ee7-6278-49f4-d6e9-7a49891cfc0b",
        "colab": {
          "base_uri": "https://localhost:8080/"
        }
      },
      "id": "HuFGNErVOlbQ",
      "execution_count": 39,
      "outputs": [
        {
          "output_type": "stream",
          "name": "stdout",
          "text": [
            "Requirement already satisfied: matplotlib in /usr/local/lib/python3.7/dist-packages (3.2.2)\n",
            "Requirement already satisfied: numpy>=1.11 in /usr/local/lib/python3.7/dist-packages (from matplotlib) (1.21.6)\n",
            "Requirement already satisfied: cycler>=0.10 in /usr/local/lib/python3.7/dist-packages (from matplotlib) (0.11.0)\n",
            "Requirement already satisfied: python-dateutil>=2.1 in /usr/local/lib/python3.7/dist-packages (from matplotlib) (2.8.2)\n",
            "Requirement already satisfied: pyparsing!=2.0.4,!=2.1.2,!=2.1.6,>=2.0.1 in /usr/local/lib/python3.7/dist-packages (from matplotlib) (3.0.8)\n",
            "Requirement already satisfied: kiwisolver>=1.0.1 in /usr/local/lib/python3.7/dist-packages (from matplotlib) (1.4.2)\n",
            "Requirement already satisfied: typing-extensions in /usr/local/lib/python3.7/dist-packages (from kiwisolver>=1.0.1->matplotlib) (4.1.1)\n",
            "Requirement already satisfied: six>=1.5 in /usr/local/lib/python3.7/dist-packages (from python-dateutil>=2.1->matplotlib) (1.15.0)\n"
          ]
        }
      ]
    },
    {
      "cell_type": "code",
      "execution_count": 37,
      "id": "artistic-holocaust",
      "metadata": {
        "id": "artistic-holocaust"
      },
      "outputs": [],
      "source": [
        "landmarks = {\n",
        "    \"blue_posts\": [\n",
        "        [ -4.5, -1.0], [ -4.5, 1.0]\n",
        "    ],\n",
        "    \"yellow_posts\":[\n",
        "        [ 4.5, -1.0], [ 4.5, 1.0]\n",
        "    ]\n",
        "}"
      ]
    },
    {
      "cell_type": "markdown",
      "id": "gross-browse",
      "metadata": {
        "id": "gross-browse"
      },
      "source": [
        "Пример данных, которые могут поступать в модуль на одном шаге всей системы. Данные во втором словаре – это данные одометрии с собвственной информацией робота о перемещении за один шаг системы. Для проверки работы придумайте и запишите набор данных с такой же структурой. "
      ]
    },
    {
      "cell_type": "code",
      "execution_count": 40,
      "id": "freelance-clothing",
      "metadata": {
        "id": "freelance-clothing"
      },
      "outputs": [],
      "source": [
        "observations = {\"yellow_posts\":[[4.45, -0.99],[4.49, 1.09]], \"blue_posts\":[]}\n",
        "shift = {'shift_x':0.0, 'shift_y':0.01, 'shift_angle':-0.4}"
      ]
    },
    {
      "cell_type": "markdown",
      "id": "behind-mouth",
      "metadata": {
        "id": "behind-mouth"
      },
      "source": [
        "### 1) Реализовать локализацию триангуляцией (3 балл)\n",
        "    "
      ]
    },
    {
      "cell_type": "code",
      "source": [
        "class Robot:\n",
        "  def __init__(self, x=0, y =0, yaw=0):\n",
        "    self.x = x\n",
        "    self.y = y\n",
        "    self.yaw = yaw\n",
        "  def set_coord(self, x, y, yaw):\n",
        "    self.x = float(x)\n",
        "    self.y = float(y)\n",
        "    self.yaw = float(yaw)\n",
        "  def move(self, x,y,yaw):\n",
        "    orientation = self.yaw + float(-yaw)\n",
        "    if orientation < 0:\n",
        "      orientation += math.pi *2\n",
        "    self.yaw =  orientation % (math.pi *2)\n",
        "    self.x += x*math.cos(self.yaw)\n",
        "    self.y += y*math.sin(self.yaw)\n",
        "    "
      ],
      "metadata": {
        "id": "RbgEqWWGXWli"
      },
      "execution_count": 41,
      "outputs": [],
      "id": "RbgEqWWGXWli"
    },
    {
      "cell_type": "code",
      "source": [
        "import math"
      ],
      "metadata": {
        "id": "8NdamkLg5rxW"
      },
      "id": "8NdamkLg5rxW",
      "execution_count": 42,
      "outputs": []
    },
    {
      "cell_type": "code",
      "execution_count": 43,
      "id": "funded-external",
      "metadata": {
        "id": "funded-external"
      },
      "outputs": [],
      "source": [
        "class localization_triangulation:\n",
        "    def __init__(self, myrobot):\n",
        "      self.myrobot = myrobot\n",
        "    def update(self, observations):\n",
        "      if observations['yellow_posts']:\n",
        "        x1 = observations['yellow_posts'][0][0]\n",
        "        y1 = observations['yellow_posts'][0][1]\n",
        "        x2 = observations['yellow_posts'][1][0]\n",
        "        y2 = observations['yellow_posts'][1][1]\n",
        "\n",
        "        r1 = math.sqrt(x1*x1 + y1* y1)\n",
        "        phi1 = math.atan(abs(y1/x1))\n",
        "        r2 = math.sqrt(x2*x2 +y2*y2) \n",
        "        \n",
        "\n",
        "        alpha = math.acos((4 + r1*r1 -r2*r2)/(2*r1*2))        \n",
        "        beta = math.acos((4 + r2*r2 -r1*r1)/(2*r2*2))\n",
        "        \n",
        "        #determine the coordinates\n",
        "        self.myrobot.x = -4.5 + r1*math.sin(alpha)\n",
        "        \n",
        "        if r1>r2:\n",
        "          self.myrobot.y = 1-r2*math.cos(beta)\n",
        "        elif r1<r2:\n",
        "          self.myrobot.y = -1 +r1*math.cos(alpha)\n",
        "        else:\n",
        "          self.myrobot.y = 0\n",
        "\n",
        "        #determine the angle of the robot\n",
        "        if alpha > math.pi/2:\n",
        "          self.myrobot.yaw = -phi1 - (alpha - math.pi/2)\n",
        "        elif alpha <math.pi/2:\n",
        "          self.myrobot.yaw = -phi1 +(math.pi/2 - alpha)\n",
        "        else: self.myrobot.yaw = -phi1\n",
        "      else:\n",
        "        x1 = observations['blue_posts'][0][0]\n",
        "        y1 = observations['blue_posts'][0][1]\n",
        "        x2 = observations['blue_posts'][1][0]\n",
        "        y2 = observations['blue_posts'][1][1]\n",
        "\n",
        "        r1 = math.sqrt(x1*x1 + y1* y1)        \n",
        "        phi1 = math.atan(abs(y1/x1))\n",
        "        r2 = math.sqrt(x2*x2 +y2*y2)\n",
        "\n",
        "        alpha = math.acos((4 + r1*r1 -r2*r2)/(2*r1*2) )\n",
        "        beta = math.acos((4 + r2*r2 -r1*r1)/(2*r2*2) )\n",
        "        \n",
        "\n",
        "\n",
        "\n",
        "        "
      ]
    },
    {
      "cell_type": "code",
      "source": [
        "local = localization_triangulation(Robot())\n",
        "local.update(observations)\n",
        "print(\"x =\",local.myrobot.x)\n",
        "print(\"y = \",local.myrobot.y)\n",
        "print(\"yaw = \",local.myrobot.yaw)"
      ],
      "metadata": {
        "id": "xetJSHLd4_lZ",
        "outputId": "d8d1e196-4594-49cb-8f26-545ebd44d902",
        "colab": {
          "base_uri": "https://localhost:8080/"
        }
      },
      "id": "xetJSHLd4_lZ",
      "execution_count": 44,
      "outputs": [
        {
          "output_type": "stream",
          "name": "stdout",
          "text": [
            "x = -0.022790373458039248\n",
            "y =  -0.14139999999999997\n",
            "yaw =  -0.029435964304052153\n"
          ]
        }
      ]
    },
    {
      "cell_type": "markdown",
      "id": "freelance-messaging",
      "metadata": {
        "id": "freelance-messaging"
      },
      "source": [
        "### 2) Дополнить предыдущий пункт до альфа-бета фильтра (5 балла)"
      ]
    },
    {
      "cell_type": "code",
      "execution_count": 9,
      "id": "cordless-messenger",
      "metadata": {
        "id": "cordless-messenger"
      },
      "outputs": [],
      "source": [
        "class localization_alphabeta:\n",
        "    \n",
        "    #put your code here\n",
        "    \n",
        "    pass\n",
        "    \n",
        "    def update():\n",
        "        \n",
        "        #put your code here\n",
        "        \n",
        "        pass"
      ]
    },
    {
      "cell_type": "markdown",
      "id": "vanilla-documentary",
      "metadata": {
        "id": "vanilla-documentary"
      },
      "source": [
        "### 3) *Дополнительно* Добавьте визуализацию вида сверху  (2 балла)"
      ]
    },
    {
      "cell_type": "markdown",
      "id": "polyphonic-extension",
      "metadata": {
        "id": "polyphonic-extension"
      },
      "source": [
        "Например на OpenCV или Matplotlib, например так как было в семинаре, чтобы можно было удобно посмотреть на работу модуля.\n"
      ]
    },
    {
      "cell_type": "code",
      "source": [
        "class Field:\n",
        "  def __init__(self, field_param):\n",
        "    self.field = field_param\n",
        "    self.w_width = field_param['main_rectangle'][0][0]\n",
        "    self.w_length = field_param['main_rectangle'][0][1]"
      ],
      "metadata": {
        "id": "Kx-HgtB1WbXm"
      },
      "id": "Kx-HgtB1WbXm",
      "execution_count": 45,
      "outputs": []
    },
    {
      "cell_type": "code",
      "source": [
        "parfield = {\n",
        "    \"circles\": [\n",
        "                [0.0, 0.0,1.0]\n",
        "    ], \n",
        "    \"lines\":[\n",
        "             [[-3.0,3.0], [0.0, 0.0]]\n",
        "    ], \n",
        "    \"points\":[\n",
        "              [0, 0]\n",
        "    ],\n",
        "    \"main_rectangle\":[\n",
        "                      [6.0, 9.0]\n",
        "    ], \n",
        "    \"rectangles\":[\n",
        "                  [[-1, -4.5], 2,1], [[-1, 3.5],2,1]\n",
        "    ]\n",
        "}"
      ],
      "metadata": {
        "id": "S8QUQwYpVI3T"
      },
      "id": "S8QUQwYpVI3T",
      "execution_count": 46,
      "outputs": []
    },
    {
      "cell_type": "code",
      "execution_count": 47,
      "id": "systematic-prairie",
      "metadata": {
        "id": "systematic-prairie"
      },
      "outputs": [],
      "source": [
        "import math\n",
        "import matplotlib.pylab as plt\n",
        "field = Field(parfield)\n",
        "def visualization(robot, pr, factor = 7):\n",
        "  plt.figure(\"robot \", figsize=(field.w_width, field.w_length))\n",
        "  plt.title('particle filter')\n",
        "\n",
        "  grid = [-field.w_width/2, field.w_width/2, -field.w_length/2, field.w_length/2]\n",
        "  ax = plt.axis(grid)\n",
        "  for el in field.field:\n",
        "    if el == 'circles':\n",
        "      for circle in field.field['circles']:\n",
        "        plot_circle = plt.Circle((circle[0], circle[1]), circle[2], linewidth=2, fill =False, edgecolor = 'r')\n",
        "        plt.gca().add_patch(plot_circle)\n",
        "    if el == 'lines':\n",
        "      for line in field.field['lines']:\n",
        "        plot_line = plt.Line2D(line[0], line[1], linewidth = 2, linestyle = '-', color = '#330000')\n",
        "        plt.gca().add_line(plot_line)\n",
        "    if el == 'rectangles':\n",
        "      for rectangle in field.field['rectangles']:\n",
        "        rect = plt.Rectangle(rectangle[0], rectangle[1],rectangle[2], linewidth = 2, linestyle = '-', fill = False)\n",
        "        plt.gca().add_patch(rect)\n",
        "    if pr != False:\n",
        "      circle = plt.Circle((robot.y, robot.x), 1./factor, facecolor='#FF66E9', edgecolor='#FF66E9')\n",
        "      plt.gca().add_patch(circle)\n",
        "\n",
        "      arrow = plt.Arrow(robot.y, robot.x, 3*math.sin(robot.yaw)/factor, 3*math.cos(robot.yaw)/factor, width=1/factor)\n",
        "      plt.gca().add_patch(arrow)\n",
        "\n",
        "  for lm in landmarks:\n",
        "    for lms in landmarks[lm]:\n",
        "      if lm == \"yellow_posts\":\n",
        "        circle = plt.Circle((lms[0], lms[1]), 1./factor, facecolor ='#ffff00', edgecolor = '#330000')\n",
        "        plt.gca().add_patch(circle)\n",
        "      else:\n",
        "        circle = plt.Circle((lms[0], lms[1]), 1./factor, facecolor = '#060C73', edgecolor = '#330000')\n",
        "        plt.gca().add_patch(circle)\n"
      ]
    },
    {
      "cell_type": "code",
      "source": [
        "r = Robot()\n",
        "r.move(0,1,2)\n",
        "visualization(r, True,7)\n",
        "\n"
      ],
      "metadata": {
        "id": "9L88YJmAbkEZ",
        "outputId": "3e7bf5e4-dbd9-423e-8706-4d0086f5868c",
        "colab": {
          "base_uri": "https://localhost:8080/",
          "height": 553
        }
      },
      "id": "9L88YJmAbkEZ",
      "execution_count": 48,
      "outputs": [
        {
          "output_type": "display_data",
          "data": {
            "text/plain": [
              "<Figure size 432x648 with 1 Axes>"
            ],
            "image/png": "[encoded data removed]"
          },
          "metadata": {
            "needs_background": "light"
          }
        }
      ]
    },
    {
      "cell_type": "code",
      "source": [
        "visualization(local.myrobot, True,7)\n"
      ],
      "metadata": {
        "id": "JC-YpiWH6IPn",
        "outputId": "18a6f9b8-bf36-4b91-af50-27598891f245",
        "colab": {
          "base_uri": "https://localhost:8080/",
          "height": 553
        }
      },
      "id": "JC-YpiWH6IPn",
      "execution_count": 49,
      "outputs": [
        {
          "output_type": "display_data",
          "data": {
            "text/plain": [
              "<Figure size 432x648 with 1 Axes>"
            ],
            "image/png": "[encoded data removed]"
          },
          "metadata": {
            "needs_background": "light"
          }
        }
      ]
    }
  ],
  "metadata": {
    "kernelspec": {
      "display_name": "Python 3",
      "language": "python",
      "name": "python3"
    },
    "language_info": {
      "codemirror_mode": {
        "name": "ipython",
        "version": 3
      },
      "file_extension": ".py",
      "mimetype": "text/x-python",
      "name": "python",
      "nbconvert_exporter": "python",
      "pygments_lexer": "ipython3",
      "version": "3.9.2"
    },
    "colab": {
      "name": "localization_hw8.ipynb",
      "provenance": []
    }
  },
  "nbformat": 4,
  "nbformat_minor": 5
}